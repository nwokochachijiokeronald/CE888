{
  "nbformat": 4,
  "nbformat_minor": 0,
  "metadata": {
    "colab": {
      "name": "Assignment_week1.ipynb",
      "provenance": [],
      "collapsed_sections": [],
      "include_colab_link": true
    },
    "kernelspec": {
      "name": "python3",
      "display_name": "Python 3"
    }
  },
  "cells": [
    {
      "cell_type": "markdown",
      "metadata": {
        "id": "view-in-github",
        "colab_type": "text"
      },
      "source": [
        "<a href=\"https://colab.research.google.com/github/nwokochachijiokeronald/CE888/blob/main/lab1/lab_1.ipynb\" target=\"_parent\"><img src=\"https://colab.research.google.com/assets/colab-badge.svg\" alt=\"Open In Colab\"/></a>"
      ]
    },
    {
      "cell_type": "markdown",
      "metadata": {
        "id": "7r4fDI5IbpLK"
      },
      "source": [
        "Questions 1. Write a function name 'avg', which take an array of number and calculate the average"
      ]
    },
    {
      "cell_type": "code",
      "metadata": {
        "id": "bcnsB4xjQiri"
      },
      "source": [
        " def avg1(marks):         # create a function called avg1 that takes an argument/variable/value marks which is a list\r\n",
        "  \r\n",
        "  sum = 0                 # create a variabe to be used for addition and initialize it to 0\r\n",
        "  x = len(marks)          # find the total number of elements in the list & assign the value to variable x\r\n",
        "  for count in marks:     # open a for loop to iterate through the elements of the list so that each element will be brought out & added to the sum variable\r\n",
        "    sum += count          # summing all elements \r\n",
        "  avg = sum/x             # dividing the total sum by the total number of elements\r\n",
        "  \r\n",
        "  return (avg)             # printing out the calculated average value"
      ],
      "execution_count": 72,
      "outputs": []
    },
    {
      "cell_type": "code",
      "metadata": {
        "id": "gJmjW3hhU0ng"
      },
      "source": [
        "mark2 = [55,88,78,90,79]    # creating a list of integers called marks\r\n",
        "import numpy as np\r\n",
        "assert(avg1(mark2) == np.mean(mark2))"
      ],
      "execution_count": 73,
      "outputs": []
    },
    {
      "cell_type": "markdown",
      "metadata": {
        "id": "-BX4Y2LYbzhu"
      },
      "source": [
        "Questions 2. Write a function name 'areaCricle', which take radius as a argument and calculate the area."
      ]
    },
    {
      "cell_type": "code",
      "metadata": {
        "id": "Q0j8JKySTqFT"
      },
      "source": [
        "import math                             # importing the math library to use it to find the value of pi \r\n",
        "def areaCircle(radius):                  # creating a function called areaCircle that takes an argument radius\r\n",
        "  \r\n",
        "  area = math.pi * (radius**2)     # the formula for finding the are of a cirlce\r\n",
        "  print(area)                             # printing the result\r\n",
        "  return area"
      ],
      "execution_count": 75,
      "outputs": []
    },
    {
      "cell_type": "code",
      "metadata": {
        "colab": {
          "base_uri": "https://localhost:8080/"
        },
        "id": "jUtJa9faaLos",
        "outputId": "0efcd42d-6b24-4d04-9af8-e082b84d34c5"
      },
      "source": [
        "# Only run this cell to check your answer. If it is true then no error will be raised\r\n",
        "assert(round(areaCircle(10),2) == 314.16)"
      ],
      "execution_count": 76,
      "outputs": [
        {
          "output_type": "stream",
          "text": [
            "314.1592653589793\n"
          ],
          "name": "stdout"
        }
      ]
    },
    {
      "cell_type": "markdown",
      "metadata": {
        "id": "240s6PsIb42c"
      },
      "source": [
        "Question 3. Write a function that takes a list of items and returns a new list with the order of items reversed, without using any inbuilt Python features that will do this for you (e.g. .reverse() or reversed(…)). As specified in the instructions, your function must not modify the contents of the original list"
      ]
    },
    {
      "cell_type": "code",
      "metadata": {
        "id": "KjjyYsadZ-VK"
      },
      "source": [
        "  def reversed_list(in_list):                      # create a function called revers that will take an argument called items which is actaully a list\r\n",
        "\r\n",
        "    k=[]\r\n",
        "    y = 1                                 # create a variable y to be used in identifying each element of the item list\r\n",
        "    for count in in_list:\r\n",
        "      k.append(in_list[-y])                   # create a for loop to bring out all the elements of list items one after another\r\n",
        "      print (k)                    # print each yth element of list item. The elements are picked from behind since y is negative. It starts by picking -1 element, then increases to pick -2 element till it exhausts the list\r\n",
        "      y += 1\r\n",
        "    return k\r\n",
        "    raise NotImplementedError                              # increase the value of y to pick the next indexed element"
      ],
      "execution_count": 77,
      "outputs": []
    },
    {
      "cell_type": "code",
      "metadata": {
        "colab": {
          "base_uri": "https://localhost:8080/"
        },
        "id": "Fgqez6wIknul",
        "outputId": "50bad67f-fd34-4c8d-b4a3-8a8f74a723a0"
      },
      "source": [
        "# Only run this cell to check your answer. If it is true then no error will be raised\r\n",
        "assert(reversed_list([1, 2]) == [2, 1])"
      ],
      "execution_count": 78,
      "outputs": [
        {
          "output_type": "stream",
          "text": [
            "[2]\n",
            "[2, 1]\n"
          ],
          "name": "stdout"
        }
      ]
    },
    {
      "cell_type": "markdown",
      "metadata": {
        "id": "wjzqPfVAE_LE"
      },
      "source": [
        "Question 5.\r\n",
        "\r\n",
        "Write a function to find $n^{th}$ Fibonacci number The Fibonacci numbers are the numbers in the following integer sequence.\r\n",
        "1 \t2 \t3 \t4 \t5 \t6 \t7 \t8 \t9 \t10 \t11 \t12\r\n",
        "0 \t1 \t1 \t2 \t3 \t5 \t8 \t13 \t21 \t34 \t55 \t89\r\n",
        "\r\n",
        "Please consider index starting from 1\r\n",
        "\r\n",
        "In mathematical terms, the sequence $F_n$ of Fibonacci numbers is defined by the recurrence relation\r\n",
        "\r\n",
        "$F_n = F_n-1 + F_n-2$\r\n",
        "\r\n",
        "with seed values\r\n",
        "\r\n",
        "$F_0 = 0$ and "
      ]
    },
    {
      "cell_type": "code",
      "metadata": {
        "id": "zB7qR8R_D9_8"
      },
      "source": [
        "def Fibonacci(n):\r\n",
        "\r\n",
        "    a = int(n)\r\n",
        "    \r\n",
        "    x = 1\r\n",
        "    y = 0\r\n",
        "    i = 1\r\n",
        "    while i < (a-1):\r\n",
        "        z = x + y\r\n",
        "      \r\n",
        "        y = x\r\n",
        "        x = z\r\n",
        "        i +=1\r\n",
        "    return z\r\n",
        "    raise NotImplementedError()"
      ],
      "execution_count": 80,
      "outputs": []
    },
    {
      "cell_type": "code",
      "metadata": {
        "id": "ShuYHqhKD-ld"
      },
      "source": [
        "# Only run this cell to check your answer. If it is true then no error will be raised\r\n",
        "assert(Fibonacci(7) == 8)\r\n",
        "assert(Fibonacci(9) == 21)"
      ],
      "execution_count": 81,
      "outputs": []
    },
    {
      "cell_type": "markdown",
      "metadata": {
        "id": "91XR8WzzFqQm"
      },
      "source": [
        "Question 4.\r\n",
        "\r\n",
        "Read carefully: Write a function to perform a Bubble Sort on a list of numbers.\r\n",
        "\r\n",
        "Bubble sort is a sorting algorithm and works by iterating over the list, comparing adjacent items, and swapping them if they are out of order.\r\n",
        "\r\n",
        "Notice that after the first pass of a bubble sort, the biggest item is always moved to the end of the list. This means the next iteration does not need to check the final position of the list.\r\n",
        "\r\n",
        "In addition, you can keep track of how many items were swapped on each iteration. If this count is zero on any iteration, then the list must be fully sorted, in which case the algorithm can stop early."
      ]
    },
    {
      "cell_type": "code",
      "metadata": {
        "id": "nXVwTCfGFrKH"
      },
      "source": [
        "def bubble_sort(in_list):\r\n",
        "  a = len(in_list)\r\n",
        "\r\n",
        "  for count in in_list:\r\n",
        "    y = 0\r\n",
        "    z = 1\r\n",
        "\r\n",
        "    while z < a:\r\n",
        "      if in_list[y] > in_list[z]:\r\n",
        "        b = in_list[y]\r\n",
        "        in_list[y] = in_list[z]\r\n",
        "        in_list[z] = b \r\n",
        "      y += 1\r\n",
        "      z += 1\r\n",
        "    \r\n",
        "\r\n",
        "  return in_list\r\n",
        "  raise NotImplementedError"
      ],
      "execution_count": 82,
      "outputs": []
    },
    {
      "cell_type": "code",
      "metadata": {
        "id": "hj9Aac9HKMKe"
      },
      "source": [
        "# Only run this cell to check your answer. If it is true then no error will be raised\r\n",
        "assert(bubble_sort([37, 42, 9, 19, 35, 4, 53, 22]) == [4, 9, 19, 22, 35, 37, 42, 53])\r\n",
        "assert(bubble_sort([5, 4, 3, 2, 1]) == [1, 2, 3, 4, 5])"
      ],
      "execution_count": 83,
      "outputs": []
    }
  ]
}